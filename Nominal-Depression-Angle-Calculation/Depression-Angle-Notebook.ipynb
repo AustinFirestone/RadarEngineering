{
 "cells": [
  {
   "cell_type": "code",
   "execution_count": null,
   "metadata": {},
   "outputs": [],
   "source": [
    "import matplotlib.pyplot as plt\n",
    "import math as m\n",
    "\n",
    "#Constants\n",
    "RTD = 180/m.pi #Radians to Degrees\n",
    "R_E = 6378137.0 #Earths Radius in Meters\n",
    "A = 19812.0 #Altitude in Meters\n",
    "SD = 80000.0 #Slant Distance in Meters\n",
    "\n",
    "#Determined using Algerba (refer to PDF)\n",
    "Y_A = (SD**2 + (A*(A + 2*R_E)))/(2*(R_E + A))\n",
    "X_A = m.sqrt(SD**2 - (Y_A)**2)\n",
    "NDA = m.acos(X_A / SD)\n",
    "\n",
    "print('Altitude =',A,'meters')\n",
    "print('Slant Distance =',SD,'meters')\n",
    "print('Nominal Depression Angle =',(NDA*RTD),'degrees')"
   ]
  },
  {
   "cell_type": "code",
   "execution_count": null,
   "metadata": {},
   "outputs": [],
   "source": [
    "#Determine ground coordinates for radar, given: target position\n",
    "\n",
    "#Target Location\n",
    "x1 = 0\n",
    "y1 = 0\n",
    "\n",
    "#Ground Point\n",
    "x2 = x1 - X_A\n",
    "y2 = y1 + (Y_A - A)\n",
    "print('Ground Point =', x2, ',', y2)\n"
   ]
  }
 ],
 "metadata": {
  "interpreter": {
   "hash": "6c4a4f0a3e1bf75b5f70e2bd9e08e45e3cfc0c514d3dd6c0b1d66fd8ca9fd00d"
  },
  "kernelspec": {
   "display_name": "Python 3.9.7 ('Ice')",
   "language": "python",
   "name": "python3"
  },
  "language_info": {
   "codemirror_mode": {
    "name": "ipython",
    "version": 3
   },
   "file_extension": ".py",
   "mimetype": "text/x-python",
   "name": "python",
   "nbconvert_exporter": "python",
   "pygments_lexer": "ipython3",
   "version": "3.9.7"
  },
  "orig_nbformat": 4
 },
 "nbformat": 4,
 "nbformat_minor": 2
}
